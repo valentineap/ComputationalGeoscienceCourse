{
 "cells": [
  {
   "cell_type": "markdown",
   "metadata": {},
   "source": [
    "# Assessed Exercise 2\n",
    "\n",
    "This exercise contains four tasks. You should attempt all of them, ensuring that you have completed every part of each task. You should write your solutions into this Jupyter notebook; you may add additional cells as necessary. Your code should run correctly when each cell of the notebook is executed in the order that they appear. \n",
    "\n",
    "Your attempt must be submitted via Wattle by 17:00, Friday 5th June. To submit, you should:\n",
    "- Click `File > Save and Checkpoint`\n",
    "- Click `File > Download as > Notebook (.ipynb)\n",
    "- Save the file to your computer\n",
    "- Upload this file via Wattle. \n",
    "\n",
    "Remember to **document your code** using docstrings and comments. Where tasks require you to produce figures or other output, **marks will be awarded for the quality of presentation**: remember to include axis labels, titles, colorbars, etc. A full marking rubric is given below. \n",
    "\n",
    "You may make use of (i.e., import) the following modules:\n",
    "   - `numpy`\n",
    "   - `matplotlib`\n",
    "   - `pandas`\n",
    "   - `cartopy`\n",
    "   - `datetime`\n",
    "   - `math`\n",
    "   - `re`\n",
    "   \n",
    "**No other modules may be used** unless you have obtained permission from the course convenor (Dr Andrew Valentine). Note that you may not need to use all of the modules in the above list.\n",
    "\n",
    "## Drop-in sessions\n",
    "\n",
    "Usually we organise four two-hour drop-in sessions before the submission deadline. These are times when a course tutor is available to answer any questions you may have about Python, any of the exercises, or about what is required for this assessment (obviously, we cannot help you complete the tasks!). However, in view of the 'remote teaching' this semester I propose to replace this with Zoom meetings by appointment. If you have any questions at any point, please email me (andrew.valentine@anu.edu.au) to arrange a mutually convenient time. \n",
    "\n",
    "## Oral examinations\n",
    "\n",
    "When completing this assessed exercise, you are encouraged to make use of online resources and talk to your colleagues to help you find effective solutions, and fix problems. However, everything you submit must be your own work, and you must be able to explain how your code works. To ensure this, everyone must attend a short oral examination. During this, we will ask you to explain aspects of your solution, and discuss why you chose to solve the task in that way. No particular preparation is required, although you might wish to read through your submitted work before attending the examination.\n",
    "\n",
    "These will be held via Zoom, regardless of whether the ANU campus has reopened at this point. I will send individual meeting invitations via email, nearer the time.\n",
    "\n",
    "If your allocated time is not convenient, you may swap with someone else, **provided that both people email me (andrew.valentine@anu.edu.au) to confirm the change**. If you are unable to find someone to swap with, or are entirely unavailable on 10th June, please contact me immediately to arrange an alternative time. **Failure to attend an oral examination will result in you receiving no credit for this assessment.**\n",
    "\n",
    "## Marking\n",
    "\n",
    "**High distinction**\n",
    "\n",
    "- Submitted code is a complete and elegant solution to the stated problem. No errors or omissions are present. Code is concise, clear and readily understood, displaying a level of sophistication and a full understanding of the Python language. Solutions may extend beyond the stated problem, or use aspects of Python not directly taught during the course.\n",
    "-\tCode is fully and clearly documented, with comprehensive, well-structured explanation of function interfaces and program logic.\n",
    "-\tOutput (e.g. maps & figures) is of exemplary quality, conveying all required information in a visually-appealing manner, and of a standard suitable for submission in a top-quality journal.\n",
    "-\tThe student displays a comprehensive understanding of their code, and can fully justify the choices they made. They are able to discuss other potential solution strategies, and evaluate their pros and cons.\n",
    "\n",
    "**Distinction**\n",
    "\n",
    "-\tSubmitted code fully addresses the stated problem, providing correct output(s) in all cases. No errors or omissions are present. Code is concise, well-structured and easy to understand. The full range of Python constructs are employed. Errors (e.g. bad user inputs) are handled appropriately.\n",
    "-\tCode is fully-documented through docstrings and explanatory comments.\n",
    "-\tOutput conveys all required information without error or omission. Figures are suitable for inclusion in a journal publication, being generally well-presented and visually-appealing.\n",
    "-\tThe student displays a comprehensive understanding of their submission, and is able to discuss and justify the decisions and choices they made during implementation.\n",
    "\n",
    "**Credit**\n",
    "-\tSubmitted code fully addresses the stated problem, providing correct output(s) in all cases. No significant errors or omissions are present. Code is well-structured and clear, making use of a range of Python constructs as appropriate. Some attempt is made to check for and handle errors (e.g. bad user inputs) as appropriate.\n",
    "-\tSome attempt is made to document the code through docstrings and explanatory comments, but this is incomplete or lacking in detail.\n",
    "-\tOutput conveys all required information without error or omission. Figures are suitable for inclusion in a journal publication but may lack polish and visual appeal.\n",
    "-\tStudent displays a comprehensive understanding of their submitted code, and can explain how it works.\n",
    "\n",
    "**Pass**\n",
    "-\tSubmitted code largely addresses the stated problem. Some errors or omissions may be present, and outputs may not be correct in all cases. Code may be unsophisticated, with significant redundancy or inefficiency, and may use only a limited subset of the Python language. There may be little or no effort to handle common sources of error (e.g. incorrect user inputs).\n",
    "-\tLittle or no attempt is made to document the code through docstrings and explanatory comments.\n",
    "-\tOutput conveys the required information, perhaps with minor errors or omissions. Figure quality is well below the standard expected in a good journal.\n",
    "-\tStudent displays basic familiarity with their submitted solution.\n",
    "\n",
    "**Fail**\n",
    "-\tSubmitted code does not provide a solution to the stated problem.\n",
    "-\tOutput entirely fails to convey the required information.\n",
    "-\tStudent is unable to explain how their code works, leading the examiners to believe that the submission does not represent the students own, independent efforts.\n",
    "\n",
    "\n"
   ]
  },
  {
   "cell_type": "markdown",
   "metadata": {},
   "source": [
    "## 1. The ideal gas law (10%)\n",
    "\n",
    "The ideal gas law relates pressure ($P$), volume ($V$) and temperature ($T$) for an 'ideal' gas. It states that\n",
    "\n",
    "$$ PV = nRT $$\n",
    "\n",
    "where $n$ is the number of 'moles' of gas present, and $R$ is a constant, $R = 8.3145\\,\\mathrm{L}\\,\\mathrm{kPa}\\,\\mathrm{mol}^{-1}\\,\\mathrm{K}^{-1}$. Write a function that allows the user to specify **any three** of the quantities $P$, $V$, $n$ and $T$ as arguments, and which will return the fourth."
   ]
  },
  {
   "cell_type": "code",
   "execution_count": null,
   "metadata": {},
   "outputs": [],
   "source": [
    "# Try it here!\n"
   ]
  },
  {
   "cell_type": "markdown",
   "metadata": {},
   "source": [
    "## 2. The substitution cipher (30%)\n",
    "\n",
    "In class, we encountered the Caesar cipher for encoding messages. Another kind of cipher is a '[substitution cipher](https://en.wikipedia.org/wiki/Substitution_cipher)'. To encode a message, we first choose a 'keyword' - for example, `CHEESE`. If any letter appears in the keyword more than once, we delete the subsequent occurrences (giving `CHES`).\n",
    "\n",
    "Next, we write out a full alphabet, and a second version where the characters that appear in the keyword are shifted to the front:\n",
    "\n",
    "```text\n",
    "A B C D E F G H I J K L M N O P Q R S T U V W X Y Z    <== Plaintext\n",
    "C H E S A B D F G I J K L M N O P Q R T U V W X Y Z    <== Cipher\n",
    "\\_____/    | |   |                   |    \n",
    "Keyword    Characters in keyword moved to front\n",
    "```\n",
    "\n",
    "To encode a message, we look up each character in the 'plaintext' row and replace it with the corresponding character from the 'cipher' row. So, using our keyword `CHEESE`, the message `I AM WORKING ON MY ASSIGNMENT` becomes `G CL WNQJGMD NM LY CRRGDMLAMT`. To decode a message, we look up characters in the 'cipher' row, and replace them with the corresponding character from the 'plaintext' row. Any characters not in the alphabet (e.g. punctuation characters and spaces) should be unchanged by the encoding/decoding operation.\n",
    "\n",
    "Write a function which can encode and decode messages using any keyword. To help you check that it is working properly, here is a message that has been encoded using the keyword `PYTHON`: `VOFF HJIO, XJS BPUO QSTTOQQNSFFX HOTJHOH P GOQQPAO!`"
   ]
  },
  {
   "cell_type": "code",
   "execution_count": 3,
   "metadata": {},
   "outputs": [],
   "source": [
    "# Try it here!\n"
   ]
  },
  {
   "cell_type": "markdown",
   "metadata": {},
   "source": [
    "## 3. Global seismicity (30%)\n",
    "\n",
    "**This question has two parts; you should attempt both.**\n",
    "\n",
    "The file [`earthquakes.dat`](earthquakes.dat) contains information about earthquakes that have occurred in the last 10 years, drawn from the [Global CMT catalogue](http://www.globalcmt.org). The file contains columns corresponding to the earthquake location, magnitude and date/time, as follows:\n",
    "\n",
    "| Latitude | Longitude | Depth | Magnitude | Year | Month | Day | Hour | Mins | Secs |\n",
    "|---|---|---|---|---|---|---|---|---|---|\n",
    "| 36.87  | 69.95 | 54.3  |5.1 |2000 |01 |01 |05 |24 |35.3|\n",
    "|-60.72 | 153.67 | 10.0 | 6.0| 2000 |01 |01 |05 |58 |19.8|\n",
    "| ...|...|...|...|...|...|...|...|...|...|\n",
    "\n",
    "1. Make **a single figure** that includes:\n",
    "    1. A global map plotting the location of every earthquake in the file;\n",
    "    2. A histogram showing the distribution of earthquake depths; and\n",
    "    3. A histogram showing the distribution of earthquake magnitudes.\n",
    "\n",
    "\n",
    "2. Write a function that allows the user to specify ranges for any or all of: latitude, longitude and depth. The function should then\n",
    "    1. produce a map of only those events that fall within the specified range(s), with information about earthquake depth shown using colour, AND \n",
    "    2. write out a new file (in the same format as `earthquakes.dat`) that contains only the selected events.\n",
    "  "
   ]
  },
  {
   "cell_type": "code",
   "execution_count": 4,
   "metadata": {},
   "outputs": [],
   "source": [
    "# Try it here!\n"
   ]
  },
  {
   "cell_type": "markdown",
   "metadata": {},
   "source": [
    "## 4. Infrared Spectroscopy (30%)\n",
    "The file [`11octrll32bs1_2016-10-11T12-48-25.asp`](11octrll32bs1_2016-10-11T12-48-25.asp) is produced by an infrared spectrometer. Look at the file contents. It is formatted as follows:\n",
    "\n",
    "- Line 1: Number of data points in file\n",
    "- Line 2: Wavenumber (cm${}^{-1}$) associated with first measurement in file\n",
    "- Line 3: Wavenumber associated with last measurement in file\n",
    "- Line 4-6: Miscellaneous information (not required for this exercise)\n",
    "- Line 7-end: Reflectance measurements (%).\n",
    "\n",
    "You can assume that the measurements are evenly-spaced in wavenumber.\n",
    "\n",
    "The filename encodes some additional information:\n",
    "\n",
    "```text\n",
    "11octrll32bs1_2016-10-11T12-48-25.asp\n",
    "\\___/\\____/\\| \\________/ \\______/\n",
    "  A     B   C      D        E\n",
    "  \n",
    "A - Date of experiment (11 October)\n",
    "B - Location of experiment ('rll32b')\n",
    "C - Sample number (Sample 1) -- starting with 's'\n",
    "D - Date of experiment (again; 11 October 2016)\n",
    "E - Time of experiment (12:48:25)\n",
    "\n",
    "```\n",
    "\n",
    "\n",
    "Write a function that takes the filename as argument, and produces a high-quality figure, showing reflectance (y-axis) plotted against wavenumber (x-axis). The following information should also be displayed on the figure:\n",
    "- The date and time at which the experiment was run\n",
    "- The location and sample numbers\n",
    "- The filename of the datafile\n",
    "- The wavenumber corresponding to the maximum amplitude in the dataset.\n",
    "\n",
    "Your function should work for *any* file of this format. To help you test this, you have been provided with a second file from the same instrument - [`12octrll61s1_2016-10-12T10-36-43.asp`](12octrll61s1_2016-10-12T10-36-43.asp)."
   ]
  },
  {
   "cell_type": "code",
   "execution_count": 5,
   "metadata": {},
   "outputs": [],
   "source": [
    "# Try it here!\n"
   ]
  }
 ],
 "metadata": {
  "kernelspec": {
   "display_name": "Python 3 (ipykernel)",
   "language": "python",
   "name": "python3"
  },
  "language_info": {
   "codemirror_mode": {
    "name": "ipython",
    "version": 3
   },
   "file_extension": ".py",
   "mimetype": "text/x-python",
   "name": "python",
   "nbconvert_exporter": "python",
   "pygments_lexer": "ipython3",
   "version": "3.10.5"
  }
 },
 "nbformat": 4,
 "nbformat_minor": 4
}
