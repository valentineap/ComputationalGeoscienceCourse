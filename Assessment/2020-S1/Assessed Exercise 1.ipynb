{
 "cells": [
  {
   "cell_type": "markdown",
   "metadata": {},
   "source": [
    "# Assessed Exercise 1 \n",
    "\n",
    "This exercise is to be completed in class time and should be submitted via Wattle by 12:00 (Thursday 7 May). You should attempt all four tasks. To submit, you should:\n",
    "- Click `File > Save and Checkpoint`\n",
    "- Click `File > Download as > Notebook (.ipynb)\n",
    "- Save the file to your computer\n",
    "- Upload this via Wattle. \n",
    "\n",
    "If you have any problems with this submission process, please ask for help. \n",
    "\n",
    "You may make use of your notes to help you complete these tasks. If you do not understand what is required for any task, please ask.\n",
    "\n",
    "## Grading scheme\n",
    "\n",
    "**High distinction**\n",
    "-\tSubmitted code is a complete and elegant solution to the stated problem. No errors or omissions are present. Code is concise, clear and readily understood, displaying a level of sophistication and a full understanding of the Python language. Solutions may extend beyond the stated problem, or use aspects of Python not directly taught during the course.\n",
    "-\tCode is fully and clearly documented, with comprehensive, well-structured explanation of function interfaces and program logic.\n",
    "\n",
    "\n",
    "**Distinction**\n",
    "-\tSubmitted code fully addresses the stated problem, providing correct output(s) in all cases. No errors or omissions are present. Code is concise, well-structured and easy to understand. The full range of Python constructs are employed. Errors (e.g. bad user inputs) are handled appropriately.\n",
    "-\tCode is fully-documented through docstrings and explanatory comments.\n",
    "\n",
    "\n",
    "**Credit**\n",
    "-\tSubmitted code fully addresses the stated problem, providing correct output(s) in all cases. No significant errors or omissions are present. Code is well-structured and clear, making use of a range of Python constructs as appropriate. Some attempt is made to check for and handle errors (e.g. bad user inputs) as appropriate.\n",
    "-\tSome attempt is made to document the code through docstrings and explanatory comments, but this is incomplete or lacking in detail.\n",
    "\n",
    "\n",
    "**Pass**\n",
    "-\tSubmitted code largely addresses the stated problem. Some errors or omissions may be present, and outputs may not be correct in all cases. Code may be unsophisticated, with significant redundancy or inefficiency, and may use only a limited subset of the Python language. There may be little or no effort to handle common sources of error (e.g. incorrect user inputs).\n",
    "-\tLittle or no attempt is made to document the code through docstrings and explanatory comments.\n",
    "\n",
    "**Fail**\n",
    "-\tSubmitted code does not provide a solution to the stated problem.\n",
    "\n",
    "\n"
   ]
  },
  {
   "cell_type": "markdown",
   "metadata": {},
   "source": [
    "## Linear motion ##\n",
    "\n",
    "If an object accelerates at a constant rate, its position is given by $$r = r_0 + v_0 t + \\frac{1}{2} a t^2$$\n",
    "where $t$ denotes time, $r_0$ is the position at $t=0$, $v_0$ is the velocity at $t=0$, and $a$ is the acceleration.\n",
    "\n",
    "Write a function that can be used to calculate the position of the object at any time. It should:\n",
    "\n",
    "- Display an error message if the user attempts to enter a negative value for 'time'\n",
    "- Assume default values of $r_0 = 0$ and $v_0 = 0$, but allow users to change these if necessary.\n",
    "\n",
    "Remember, marks will be given for good-quality docstrings!"
   ]
  },
  {
   "cell_type": "code",
   "execution_count": 4,
   "metadata": {},
   "outputs": [],
   "source": [
    "# Try it here!\n"
   ]
  },
  {
   "cell_type": "markdown",
   "metadata": {},
   "source": [
    "## Simple Statistics ##\n",
    "Write a function that takes a list of numbers (e.g. `x = [6.4,4,10.6]`) and returns their [(arithmetic) mean](https://en.wikipedia.org/wiki/Arithmetic_mean) and [median](https://en.wikipedia.org/wiki/Median) values. Remember to test your code, and make sure it works when the list has an even number of entries as well as an odd number!\n",
    "\n",
    "Some data is stored in the following dictionary: \n",
    "```\n",
    "obs = {\"Sample A\":[12,12,14.5,13.5,11.2,15],\"Sample B\":[3,3.1,6.0,3.2,4.1,3.1,0.1],\"Sample C\":[1,15,23,23,23,101]}\n",
    "```\n",
    "Write code that can process this and output a nicely-formatted table listing the mean and median for each sample."
   ]
  },
  {
   "cell_type": "code",
   "execution_count": 30,
   "metadata": {},
   "outputs": [],
   "source": [
    "# Try it here!\n"
   ]
  },
  {
   "cell_type": "markdown",
   "metadata": {},
   "source": [
    "## The Fibonacci Sequence ##"
   ]
  },
  {
   "cell_type": "markdown",
   "metadata": {},
   "source": [
    "The [Fibonacci Sequence](https://en.wikipedia.org/wiki/Fibonacci_number) is a well-known sequence of numbers. The first two terms are `1 1`, and each successive term is the sum of the two previous terms:\n",
    "```text\n",
    "1 1 2 3 5 8 13 ...\n",
    "```\n",
    "Write a function that calculates and returns (only) the $N$th term in the sequence. Use it to print the first 20 terms in the sequence."
   ]
  },
  {
   "cell_type": "code",
   "execution_count": 28,
   "metadata": {},
   "outputs": [],
   "source": [
    "# Try it here!\n"
   ]
  },
  {
   "cell_type": "markdown",
   "metadata": {},
   "source": [
    "## Two-Up ##\n",
    "\n",
    "The game of [Two-up](https://en.wikipedia.org/wiki/Two-up) involves tossing two coins simultaneously. Players bet on one of three possible outcomes: (a) two heads, (b) two tails, or (c) one of each. Write a program that asks the user to select one of the three outcomes, simulates tossing the two coins, and determines whether the player has won.\n",
    "\n",
    "Hint: Remember, we can generate a random integer between `0` and `n` (inclusive) by using\n",
    "```\n",
    "import numpy as np\n",
    "r = np.random.randint(n+1)\n",
    "```\n"
   ]
  },
  {
   "cell_type": "code",
   "execution_count": 15,
   "metadata": {},
   "outputs": [],
   "source": [
    "# Try it here!\n",
    "import numpy as np\n"
   ]
  }
 ],
 "metadata": {
  "kernelspec": {
   "display_name": "Python 3 (ipykernel)",
   "language": "python",
   "name": "python3"
  },
  "language_info": {
   "codemirror_mode": {
    "name": "ipython",
    "version": 3
   },
   "file_extension": ".py",
   "mimetype": "text/x-python",
   "name": "python",
   "nbconvert_exporter": "python",
   "pygments_lexer": "ipython3",
   "version": "3.10.5"
  }
 },
 "nbformat": 4,
 "nbformat_minor": 4
}
