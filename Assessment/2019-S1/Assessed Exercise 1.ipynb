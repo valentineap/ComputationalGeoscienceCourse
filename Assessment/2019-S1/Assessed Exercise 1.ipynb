{
 "cells": [
  {
   "cell_type": "markdown",
   "metadata": {},
   "source": [
    "# Assessed Exercise 1 \n",
    "\n",
    "This exercise is to be completed in class time and should be submitted via Wattle by 12:00 (Wednesday 1 May). To submit, you should:\n",
    "- Click `File > Save and Checkpoint`\n",
    "- Click `File > Download as > Notebook (.ipynb)\n",
    "- Save the file to your computer\n",
    "- Upload this via Wattle. \n",
    "\n",
    "If you have any problems with this submission process, please ask for help. \n",
    "\n",
    "You may make use of your notes to help you complete these tasks. If you do not understand what is required for any task, please ask."
   ]
  },
  {
   "cell_type": "markdown",
   "metadata": {},
   "source": [
    "## Grading scheme\n",
    "\n",
    "**High distinction**\n",
    "-\tSubmitted code is a complete and elegant solution to the stated problem. No errors or omissions are present. Code is concise, clear and readily understood, displaying a level of sophistication and a full understanding of the Python language. Solutions may extend beyond the stated problem, or use aspects of Python not directly taught during the course.\n",
    "-\tCode is fully and clearly documented, with comprehensive, well-structured explanation of function interfaces and program logic.\n",
    "\n",
    "\n",
    "**Distinction**\n",
    "-\tSubmitted code fully addresses the stated problem, providing correct output(s) in all cases. No errors or omissions are present. Code is concise, well-structured and easy to understand. The full range of Python constructs are employed. Errors (e.g. bad user inputs) are handled appropriately.\n",
    "-\tCode is fully-documented through docstrings and explanatory comments.\n",
    "\n",
    "\n",
    "**Credit**\n",
    "-\tSubmitted code fully addresses the stated problem, providing correct output(s) in all cases. No significant errors or omissions are present. Code is well-structured and clear, making use of a range of Python constructs as appropriate. Some attempt is made to check for and handle errors (e.g. bad user inputs) as appropriate.\n",
    "-\tSome attempt is made to document the code through docstrings and explanatory comments, but this is incomplete or lacking in detail.\n",
    "\n",
    "\n",
    "**Pass**\n",
    "-\tSubmitted code largely addresses the stated problem. Some errors or omissions may be present, and outputs may not be correct in all cases. Code may be unsophisticated, with significant redundancy or inefficiency, and may use only a limited subset of the Python language. There may be little or no effort to handle common sources of error (e.g. incorrect user inputs).\n",
    "-\tLittle or no attempt is made to document the code through docstrings and explanatory comments.\n",
    "\n",
    "**Fail**\n",
    "-\tSubmitted code does not provide a solution to the stated problem.\n",
    "\n",
    "\n"
   ]
  },
  {
   "cell_type": "markdown",
   "metadata": {},
   "source": [
    "## Task 1\n",
    "\n",
    "Lengths may be measured in metric units (centimetres, metres and kilometres) or in imperial units (inches, yards and miles). To convert between them, we use the following relationships:\n",
    "- 1 inch is 2.54 centimetres\n",
    "- 1 yard is 0.914 metres\n",
    "- 1 mile is 1.609 kilometres\n",
    "\n",
    "Write a function that can be used to convert measurements in metric units to measurements in imperial units, and measurements in imperial units to measurements in metric units. "
   ]
  },
  {
   "cell_type": "code",
   "execution_count": 21,
   "metadata": {},
   "outputs": [
    {
     "name": "stdout",
     "output_type": "stream",
     "text": [
      "5 km is 3.107520198881293 miles\n",
      "5 miles is 8.045 kilometres\n"
     ]
    }
   ],
   "source": [
    "def unitConvertor(cm=None,m=None,km=None,inch=None,yard=None,mile=None):\n",
    "    '''\n",
    "    Function to convert between imperial and metric units. Takes in one or\n",
    "    more keyword arguments; prints conversion to screen.\n",
    "    \n",
    "    Inputs:\n",
    "        cm   - ) \n",
    "        m    - )\n",
    "        km   - ) Measurement in named unit that needs to be\n",
    "        inch - ) converted to similar unit in other system\n",
    "        yard - )\n",
    "        mile - )\n",
    "    Outputs:\n",
    "        None (results printed to screen)\n",
    "    '''\n",
    "    if cm is not None:\n",
    "        print(cm,\"cm is \",cm/2.54,\"inches\")\n",
    "    if m is not None:\n",
    "        print(m,\"m is\",m/0.914,\"yards\")\n",
    "    if km is not None:\n",
    "        print(km,\"km is\",km/1.609,\"miles\")\n",
    "    if inch is not None:\n",
    "        print(inch,\"inches is\",inch*2.54,\"cm\")\n",
    "    if yard is not None:\n",
    "        print(yard,\"yards is\",yard*0.914,\"metres\")\n",
    "    if mile is not None:\n",
    "        print(mile,\"miles is\",mile*1.609,\"kilometres\")\n",
    "unitConvertor(km = 5, mile=5)"
   ]
  },
  {
   "cell_type": "markdown",
   "metadata": {},
   "source": [
    "## Task 2\n",
    "\n",
    "In log form, the Arrhenius equation (see [wikipedia](https://en.wikipedia.org/wiki/Arrhenius_equation)) is equal to\n",
    "\n",
    "$\\log k = \\log A - \\frac{Ea}{RT}$\n",
    "\n",
    "We consider an imaginary reaction with a reaction rate k that can be described by this equation. However, in this reaction, Ea varies can vary linearly with T following the equation\n",
    "\n",
    "$Ea = C1 + C2\\times T$ ,\n",
    "\n",
    "with C1 and C2 know constants.\n",
    "\n",
    "Write a set of functions to allow one to predict $\\log k$ given A, Ea, T, C1 and C2.\n",
    "\n",
    "You are encourage to divide your program in different small functions.\n",
    "\n",
    "Furthermore, T should be positive and all inputs should be of type Float. Warning about bad inputs are thus expected.\n",
    "\n",
    "*Note: \n",
    "-R is the perfect gas constant and is equal to 8.314462 J mol$^{-1}$ K$^{-1}$\n",
    "-you will need the log and exp function from the math library, add this at the top of the cell: `from math import log, exp`*"
   ]
  },
  {
   "cell_type": "code",
   "execution_count": 22,
   "metadata": {},
   "outputs": [
    {
     "data": {
      "text/plain": [
       "-5.5151589860074575"
      ]
     },
     "execution_count": 22,
     "metadata": {},
     "output_type": "execute_result"
    }
   ],
   "source": [
    "from math import log, exp\n",
    "def logArrh(T,A,Ea):\n",
    "    '''Arrhenius equation\n",
    "    Inputs\n",
    "    -------\n",
    "    A : Float\n",
    "    Ea : Float\n",
    "    T : Float, positive or 0\n",
    "    \n",
    "    Returns\n",
    "    -------\n",
    "    k : Float\n",
    "    '''\n",
    "    return log(A*exp(Ea/(8.314*T)))\n",
    "    \n",
    "def Ea_calc(T,C1,C2):\n",
    "    '''return Ea given C1 and C2\n",
    "    Inputs\n",
    "    -------\n",
    "    C1 : Float\n",
    "    C2 : Float\n",
    "    \n",
    "    Returns\n",
    "    -------\n",
    "    Ea : Float\n",
    "    '''\n",
    "    return C1 + C2*T\n",
    "    \n",
    "def k_calc(T,A,C1,C2):\n",
    "    '''return k, the reaction constant give A, T, C1 and C2\n",
    "    Inputs\n",
    "    ------\n",
    "    A : Float\n",
    "    T : Float, positive or 0\n",
    "    C1 : Float\n",
    "    C2 : Float\n",
    "    \n",
    "    Returns\n",
    "    -------\n",
    "    k : Float\n",
    "    '''\n",
    "    \n",
    "    if T >= 0:\n",
    "        if type(A) != float or type(T) != float or type(C1) != float or type(C2) != float:\n",
    "            print(\"There is an issue with inputs, ensure you are inputing float numbers, with T > or = to 0. Exiting.\")\n",
    "        else:\n",
    "            k = Arrh(T,A,Ea_calc(T,C1,C2))\n",
    "            return k\n",
    "    else:\n",
    "        print(\"T is lower than 0. Exiting.\")\n",
    "        \n",
    "k_calc(1200.,-2.,10000.,0.1)"
   ]
  },
  {
   "cell_type": "markdown",
   "metadata": {},
   "source": [
    "# Task 3\n",
    "\n",
    "Write a game that displays two randomly-chosen numbers on the screen, and asks the user to add them together. If the user enters the wrong answer, the computer should print an error message and ask the user to try again.\n",
    "\n",
    "Remember, the following code will generate a random number between `i` and `j`:\n",
    "\n",
    "```python\n",
    "import numpy as np\n",
    "n = np.random.randint(i,j+1)\n",
    "```"
   ]
  },
  {
   "cell_type": "code",
   "execution_count": 24,
   "metadata": {},
   "outputs": [
    {
     "name": "stdout",
     "output_type": "stream",
     "text": [
      "What is 84 + 48 ?\n",
      "Enter your answer...100\n",
      "Sorry, that is incorrect. Please try again.\n",
      "Enter your answer...200\n",
      "Sorry, that is incorrect. Please try again.\n",
      "Enter your answer...132\n",
      "Well done!\n"
     ]
    }
   ],
   "source": [
    "import numpy as np\n",
    "def addingGame(nmax=99):\n",
    "    '''\n",
    "    Game. Not that fun.\n",
    "    '''\n",
    "    n = np.random.randint(1,nmax)\n",
    "    m = np.random.randint(1,nmax)\n",
    "    print(\"What is\",n,\"+\",m,\"?\")\n",
    "    while True:\n",
    "        answer = int(input(\"Enter your answer...\"))\n",
    "        if answer==n+m:break\n",
    "        print(\"Sorry, that is incorrect. Please try again.\")\n",
    "    print(\"Well done!\")\n",
    "    \n",
    "    \n",
    "addingGame()"
   ]
  }
 ],
 "metadata": {
  "kernelspec": {
   "display_name": "Python 3",
   "language": "python",
   "name": "python3"
  },
  "language_info": {
   "codemirror_mode": {
    "name": "ipython",
    "version": 3
   },
   "file_extension": ".py",
   "mimetype": "text/x-python",
   "name": "python",
   "nbconvert_exporter": "python",
   "pygments_lexer": "ipython3",
   "version": "3.6.7"
  }
 },
 "nbformat": 4,
 "nbformat_minor": 2
}
