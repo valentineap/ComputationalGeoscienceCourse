{
 "cells": [
  {
   "cell_type": "markdown",
   "metadata": {},
   "source": [
    "# Assessed Exercise 1 \n",
    "\n",
    "This exercise is to be completed in class time and should be submitted via Wattle by 12:00 (Wednesday 1 May). You should attempt all four tasks. To submit, you should:\n",
    "- Click `File > Save and Checkpoint`\n",
    "- Click `File > Download as > Notebook (.ipynb)\n",
    "- Save the file to your computer\n",
    "- Upload this via Wattle. \n",
    "\n",
    "If you have any problems with this submission process, please ask for help. \n",
    "\n",
    "You may make use of your notes to help you complete these tasks. If you do not understand what is required for any task, please ask."
   ]
  },
  {
   "cell_type": "markdown",
   "metadata": {},
   "source": [
    "## Grading scheme\n",
    "\n",
    "**High distinction**\n",
    "-\tSubmitted code is a complete and elegant solution to the stated problem. No errors or omissions are present. Code is concise, clear and readily understood, displaying a level of sophistication and a full understanding of the Python language. Solutions may extend beyond the stated problem, or use aspects of Python not directly taught during the course.\n",
    "-\tCode is fully and clearly documented, with comprehensive, well-structured explanation of function interfaces and program logic.\n",
    "\n",
    "\n",
    "**Distinction**\n",
    "-\tSubmitted code fully addresses the stated problem, providing correct output(s) in all cases. No errors or omissions are present. Code is concise, well-structured and easy to understand. The full range of Python constructs are employed. Errors (e.g. bad user inputs) are handled appropriately.\n",
    "-\tCode is fully-documented through docstrings and explanatory comments.\n",
    "\n",
    "\n",
    "**Credit**\n",
    "-\tSubmitted code fully addresses the stated problem, providing correct output(s) in all cases. No significant errors or omissions are present. Code is well-structured and clear, making use of a range of Python constructs as appropriate. Some attempt is made to check for and handle errors (e.g. bad user inputs) as appropriate.\n",
    "-\tSome attempt is made to document the code through docstrings and explanatory comments, but this is incomplete or lacking in detail.\n",
    "\n",
    "\n",
    "**Pass**\n",
    "-\tSubmitted code largely addresses the stated problem. Some errors or omissions may be present, and outputs may not be correct in all cases. Code may be unsophisticated, with significant redundancy or inefficiency, and may use only a limited subset of the Python language. There may be little or no effort to handle common sources of error (e.g. incorrect user inputs).\n",
    "-\tLittle or no attempt is made to document the code through docstrings and explanatory comments.\n",
    "\n",
    "**Fail**\n",
    "-\tSubmitted code does not provide a solution to the stated problem.\n",
    "\n",
    "\n"
   ]
  },
  {
   "cell_type": "markdown",
   "metadata": {},
   "source": [
    "## Task 1\n",
    "\n",
    "Lengths may be measured in metric units (centimetres, metres and kilometres) or in imperial units (inches, yards and miles). To convert between them, we use the following relationships:\n",
    "- 1 inch is 2.54 centimetres\n",
    "- 1 yard is 0.914 metres\n",
    "- 1 mile is 1.609 kilometres\n",
    "\n",
    "Write a function that can be used to convert measurements in metric units to measurements in imperial units, and measurements in imperial units to measurements in metric units. "
   ]
  },
  {
   "cell_type": "code",
   "execution_count": 6,
   "metadata": {},
   "outputs": [],
   "source": [
    "# Write your solution here\n"
   ]
  },
  {
   "cell_type": "markdown",
   "metadata": {},
   "source": [
    "## Task 2\n",
    "\n",
    "The Arrhenius equation (see [Wikipedia](https://en.wikipedia.org/wiki/Arrhenius_equation)) relates the rate of a chemical reaction ($k$) to temperature, $T$:\n",
    "\n",
    "$k = A \\exp\\left( - \\frac{E_a}{RT}\\right)$\n",
    "\n",
    "Here, $R$ is the gas constant, $R = 8.314462 \\mathrm{\\,J\\,mol^{-1}\\,K^{-1}}$, and $E_a$ is the activation energy for the reaction. In a particular experiment, this is itself temperature-dependent,\n",
    "\n",
    "$E_a = C_1 + C_2T$ ,\n",
    "\n",
    "with $C_1$ and $C_2$ known constants. Write one function to compute $E_a$ given $C_1$, $C_2$ and $T$, and a second that uses this to compute $k$ given $C_1$, $C_2$ and $T$.\n",
    "\n",
    "To compute $\\exp(x)$, you can use the following:\n",
    "```python\n",
    "from math import exp\n",
    "exp(x)\n",
    "```\n",
    "You should assume that $T$ is always positive."
   ]
  },
  {
   "cell_type": "code",
   "execution_count": 5,
   "metadata": {},
   "outputs": [],
   "source": [
    "from math import exp\n",
    "# Write your solution here\n"
   ]
  },
  {
   "cell_type": "markdown",
   "metadata": {},
   "source": [
    "# Task 3\n",
    "\n",
    "Write a game that displays two randomly-chosen numbers on the screen, and asks the user to add them together. If the user enters the wrong answer, the computer should print an error message and ask the user to try again.\n",
    "\n",
    "Remember, the following code will generate a random number between `i` and `j`:\n",
    "\n",
    "```python\n",
    "import numpy as np\n",
    "n = np.random.randint(i,j+1)\n",
    "```"
   ]
  },
  {
   "cell_type": "code",
   "execution_count": 4,
   "metadata": {},
   "outputs": [],
   "source": [
    "import numpy as np\n",
    "# Write your solution here\n"
   ]
  },
  {
   "cell_type": "markdown",
   "metadata": {},
   "source": [
    "## Task 4\n",
    "\n",
    "Write a function that takes two integers and returns their 'greatest common divisor' - that is, the largest number that exactly divides both.\n",
    "\n",
    "For example, the GCD of 15 and 20 is 5 ($15 = 5\\times$ 3 and $20 = 5\\times 4$). The GCD of 52 and 50 is 2, and the GCD of 6 and 12 is 6.\n",
    "\n",
    "*Hints: Remember, Python provides the `%` operator: if `a` is exactly divisible by `b`, then `a%b == 0`. Also, notice that the GCD of p and q must be between 1 and the smaller of p and q.*\n"
   ]
  },
  {
   "cell_type": "code",
   "execution_count": null,
   "metadata": {},
   "outputs": [],
   "source": [
    "# Write your solution here\n"
   ]
  }
 ],
 "metadata": {
  "kernelspec": {
   "display_name": "Python 3",
   "language": "python",
   "name": "python3"
  },
  "language_info": {
   "codemirror_mode": {
    "name": "ipython",
    "version": 3
   },
   "file_extension": ".py",
   "mimetype": "text/x-python",
   "name": "python",
   "nbconvert_exporter": "python",
   "pygments_lexer": "ipython3",
   "version": "3.6.7"
  }
 },
 "nbformat": 4,
 "nbformat_minor": 2
}
