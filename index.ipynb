{
 "cells": [
  {
   "cell_type": "markdown",
   "id": "13905a57",
   "metadata": {},
   "source": [
    "# Computational Geoscience Course"
   ]
  },
  {
   "cell_type": "markdown",
   "id": "85ed911f",
   "metadata": {},
   "source": [
    "This course provides an introduction to Python programming for geoscientists. It was developed and delivered at the [Research School of Earth Sciences](https://earthsciences.anu.edu.au), [Australian National University](https://www.anu.edu.au) between 2018 and 2020 by Oscar Branson, Charles Le Losq, Rebecaa McGirr and Andrew Valentine.\n",
    "\n",
    "### Practicals\n",
    "The course was designed to be taught intensively, with 45 hours timetabled over 3 weeks. Most of this time was to be spent working through a series of self-paced practicals, with support from teaching staff. Most students spent 2-3 hours on each exercise, though with wide variation across students and across exercises. Students were advised that they should aim to complete at least the first 16 exercises by the end of the timetabled sessions; exercises 17-20 introduce more advanced topics that would not be required for the assessment. Similarly, exercise 11 could be skipped if students were pressed for time.\n",
    "\n",
    "1. [Getting started](Practicals/Exercise%2001%20-%20Getting%20started/Exercise%201%20-%20Getting%20started.ipynb) - Note that this describes the Jupyter interface used for teaching at ANU; some details may be different on other platforms, such as Colab.\n",
    "#### Basics\n",
    "2. [Variables and functions](Practicals/Exercise%2002%20-%20Variables%20and%20functions/Exercise%202%20-%20Variables%20and%20functions.ipynb)\n",
    "3. [Loops and conditionals](Practicals/Exercise%2003%20-%20Loops%20and%20conditionals/Exercise%203%20-%20Loops%20and%20conditionals.ipynb)\n",
    "4. [Guessing games](Practicals/Exercise%2004%20-%20Guessing%20games/Guessing%20Games.ipynb)\n",
    "5. [Lists, tuples and dictionaries](Practicals/Exercise%2005%20-%20Lists%2C%20tuples%20and%20dictionaries/Exercise%205%20-%20Lists%2C%20tuples%20and%20dictionaries.ipynb)\n",
    "6. [More loops](Practicals/Exercise%2006%20-%20More%20loops/Exercise%206%20-%20More%20loops.ipynb)\n",
    "7. [Strings](Practicals/Exercise%2007%20-%20Strings/Exercise%207%20-%20Strings.ipynb)\n",
    "8. [Reading and writing files](Practicals/Exercise%2008%20-%20Reading%20and%20writing%20files/Exercise%208%20-%20Reading%20and%20writing%20files.ipynb)\n",
    "9. [Modules](Practicals/Exercise%2009%20-%20Modules/Exercise%209%20-%20Modules.ipynb)\n",
    "10. [Exception handling](Practicals/Exercise%2010%20-%20Exception%20handling/Exercise%2010%20-%20Exception%20handling.ipynb)\n",
    "#### A bit of fun\n",
    "11. [Sudoku](Practicals/Exercise%2011%20-%20Sudoku/Exercise%2011%20-%20Sudoku.ipynb)\n",
    "#### Data, plots and maps\n",
    "12. [Plotting](Practicals/Exercise%2012%20-%20Plotting/Exercise%2012%20-%20Plotting.ipynb)\n",
    "13. [Radioactive Decay](Practicals/Exercise%2013%20-%20Radioactive%20decay/Exercise%2013%20-%20Radioactive%20Decay.ipynb)\n",
    "14. [Pandas](Practicals/Exercise%2014%20-%20Pandas/Exercise%2014%20-%20Pandas.ipynb)\n",
    "15. [More plotting](Practicals/Exercise%2015%20-%20More%20plotting/Exercise%2015%20-%20More%20plotting.ipynb)\n",
    "16. [Maps](Practicals/Exercise%2016%20-%20Maps/Exercise%2016%20-%20Maps.ipynb)\n",
    "#### Some more advanced applications\n",
    "17. [Fourier analysis and Milankovitch cycles](Practicals/Exercise%2017%20-%20Fourier%20analysis/Exercise%2017%20-%20Fourier%20analysis%20and%20Milankovitch%20cycles.ipynb)\n",
    "18. [Object-oriented programming](Practicals/Exercise%2018%20-%20Object-oriented%20programming/Exercise%2018%20-%20Object-oriented%20programming.ipynb)\n",
    "19. [Differential equations](Practicals/Exercise%2019%20-%20Differential%20Equations/Exercise%2019%20-%20differential%20equations.ipynb)\n",
    "20. [Sorting algorithms](Practicals/Exercise%2020%20-%20Sorting%20algorithms/Exercise%2020%20-%20Sorting.ipynb)\n",
    "\n",
    "### Assessment\n",
    "Students had to complete two assignments:\n",
    "- An 'in-class test' (3 hours), taken at about the midpoint of the timetabled course, assuming knowledge of material up to Practical 7\n",
    "- A 'take-home assignment' (~3 weeks allowed) issued at the end of the timetabled course. \n",
    "\n",
    "\n",
    "#### Semester 2, 2018\n",
    "- No in-class test for this first iteration.\n",
    "- [End-of-course assignment](Assessment/2018-S2/EMSC8014%20Assessment.ipynb)\n",
    "\n",
    "#### Semester 1, 2019\n",
    "- [In-class test](Assessment/2019-S1/Assessed%20Exercise%201.ipynb)\n",
    "- [End-of-course assignment](Assessment/2019-S1/Assessed%20Exercise%202.ipynb)\n",
    "\n",
    "#### Semester 2, 2019\n",
    "- [In-class test](Assessment/2019-S2/Assessed%20Exercise%201.ipynb)\n",
    "- [End-of-course assignment](Assessment/2019-S2/Assessed%20Exercise%202.ipynb)\n",
    "\n",
    "#### Semester 1, 2020\n",
    "- [In-class test](Assessment/2020-S1/Assessed%20Exercise%201.ipynb)\n",
    "- [End-of-course assignment](Assessment/2020-S1/Assessed%20Exercise%202.ipynb)"
   ]
  },
  {
   "cell_type": "code",
   "execution_count": null,
   "id": "be7a207c",
   "metadata": {},
   "outputs": [],
   "source": []
  }
 ],
 "metadata": {
  "kernelspec": {
   "display_name": "Python 3 (ipykernel)",
   "language": "python",
   "name": "python3"
  },
  "language_info": {
   "codemirror_mode": {
    "name": "ipython",
    "version": 3
   },
   "file_extension": ".py",
   "mimetype": "text/x-python",
   "name": "python",
   "nbconvert_exporter": "python",
   "pygments_lexer": "ipython3",
   "version": "3.10.5"
  }
 },
 "nbformat": 4,
 "nbformat_minor": 5
}
