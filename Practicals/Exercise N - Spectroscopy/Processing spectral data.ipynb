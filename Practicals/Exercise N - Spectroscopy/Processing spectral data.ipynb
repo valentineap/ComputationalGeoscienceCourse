{
 "cells": [
  {
   "cell_type": "markdown",
   "metadata": {},
   "source": [
    "# Exercise N - Processing spectral data\n",
    "*Andrew Valentine - andrew.valentine@anu.edu.au - With thanks to Dr Penny King*"
   ]
  },
  {
   "cell_type": "code",
   "execution_count": null,
   "metadata": {},
   "outputs": [],
   "source": [
    "import spectroscopy"
   ]
  },
  {
   "cell_type": "markdown",
   "metadata": {},
   "source": [
    "The file `11octrll32bpanel1s1_2016-10-11T12-48-25.asp` is produced by an infrared spectrometer. You can look at the file contents by clicking its name in the Jupyter tree browser. The file format is as follows:\n",
    "\n",
    "- Line 1: Number of data points in file\n",
    "- Line 2: Wavenumber associated with first measurement in file\n",
    "- Line 3: Wavenumber associated with last measurement in file\n",
    "- Line 4-6: Miscellaneous information\n",
    "- Line 7-end: Reflectance measurements.\n",
    "\n",
    "You can assume that the measurements are evenly-spaced in wavenumber.\n",
    "\n",
    "The filename encodes some additional information, in the form:\n",
    "\n",
    "`<date><location>panel<panelnumber>s<samplenumber>_<date>T<time>.asp`\n",
    "\n",
    "**&#10148; Write your own code to read in this file, and generate the following figure.**"
   ]
  },
  {
   "cell_type": "code",
   "execution_count": null,
   "metadata": {},
   "outputs": [],
   "source": [
    "filename = \"11octrll32bpanel1s1_2016-10-11T12-48-25.asp\"\n",
    "fmin,fmax,npts,data = spectroscopy.loadSpectralData(filename)\n",
    "spectroscopy.plotSpectralData(fmin,fmax,npts,data,filename)"
   ]
  },
  {
   "cell_type": "code",
   "execution_count": null,
   "metadata": {},
   "outputs": [],
   "source": [
    "# Try it here!\n"
   ]
  },
  {
   "cell_type": "markdown",
   "metadata": {},
   "source": [
    "You will notice that the spectrum is rather jagged, probably due to noise in the measurements. A 'moving-window filter' replaces each data point with the average over a small number of adjacent data points. \n",
    "\n",
    "**&#10148; Add this functionality to your code, as in the following figure:**"
   ]
  },
  {
   "cell_type": "code",
   "execution_count": null,
   "metadata": {},
   "outputs": [],
   "source": [
    "filename = \"11octrll32bpanel1s1_2016-10-11T12-48-25.asp\"\n",
    "fmin,fmax,npts,data = spectroscopy.loadSpectralData(filename)\n",
    "spectroscopy.plotSpectralData(fmin,fmax,npts,data,filename,window=5)"
   ]
  },
  {
   "cell_type": "code",
   "execution_count": null,
   "metadata": {},
   "outputs": [],
   "source": [
    "# Try it here!\n"
   ]
  },
  {
   "cell_type": "markdown",
   "metadata": {},
   "source": [
    "You can notice that some portion of the spectra are rather devoid of signal (e.g. between 1900 and 2400 cm$^{-1}$). It is very common to fit a baseline to those portion, in order to get a flat signal that can be further analysed. A common way is to use a polynomial function, and to fit it to portions of spectra devoid of signal. \n",
    "\n",
    "In the present case, we would like to analyze the peaks between 1300 and 2000 cm$^{-1}$. We first need to grab this portion of the signal. Tpo do that, you will need to reconstruct the x axis (wavenumber) and select the Reflectance accordingly.\n",
    "\n",
    "**&#10148; Add this functionality to your code, as in the following figure:**"
   ]
  },
  {
   "cell_type": "code",
   "execution_count": null,
   "metadata": {},
   "outputs": [],
   "source": [
    "low_cut = 1350.\n",
    "high_cut = 2000.\n",
    "\n",
    "x, y = spectroscopy.cutPortion(fmin,fmax,npts,data,low_cut,high_cut)"
   ]
  },
  {
   "cell_type": "markdown",
   "metadata": {},
   "source": [
    "We now want to fit a linear background that fits the first points between 1350 and 1360 cm$^{-1}$, and the portion between 1900 and 2000 cm$^{-1}$. This is a simple least-square problem, which can be solved with using the numpy.polyfit() function. First, we grab the appropriate regions of spectra in a numpy array, and then solve the problem for a polynomial function of order 1. Once it is fit to the data, we can subtract the baseline and get a baseline-corrected sample\n",
    "\n",
    "**&#10148; Add this functionality to your code, as in the following figure:**"
   ]
  },
  {
   "cell_type": "code",
   "execution_count": null,
   "metadata": {},
   "outputs": [],
   "source": [
    "roi = [1350.,1370.,1900.,2000.] # this is a list containing the frequencies to cut the signal in the region of interests\n",
    "y_corr = spectroscopy.fitBackground(x,y,roi)"
   ]
  },
  {
   "cell_type": "markdown",
   "metadata": {},
   "source": [
    "Now, we would like to measure the area under this curve. A common way of doing that is to use trapezoidal integration.\n",
    "\n",
    "**&#10148; Add this functionality to your code, to reach the following result:**"
   ]
  },
  {
   "cell_type": "code",
   "execution_count": null,
   "metadata": {},
   "outputs": [],
   "source": [
    "spectroscopy.trapz(x[::-1],y_corr[::-1])"
   ]
  },
  {
   "cell_type": "markdown",
   "metadata": {},
   "source": [
    "Note that if you provide x as decreasing values, the trapz() output will be negative. \n",
    "\n",
    "We can compare that with numpy calculation:"
   ]
  },
  {
   "cell_type": "code",
   "execution_count": null,
   "metadata": {},
   "outputs": [],
   "source": [
    "import numpy as np\n",
    "np.trapz(y_corr[::-1],x[::-1])"
   ]
  },
  {
   "cell_type": "code",
   "execution_count": null,
   "metadata": {},
   "outputs": [],
   "source": []
  }
 ],
 "metadata": {
  "kernelspec": {
   "display_name": "Python 3",
   "language": "python",
   "name": "python3"
  },
  "language_info": {
   "codemirror_mode": {
    "name": "ipython",
    "version": 3
   },
   "file_extension": ".py",
   "mimetype": "text/x-python",
   "name": "python",
   "nbconvert_exporter": "python",
   "pygments_lexer": "ipython3",
   "version": "3.6.6"
  }
 },
 "nbformat": 4,
 "nbformat_minor": 2
}
