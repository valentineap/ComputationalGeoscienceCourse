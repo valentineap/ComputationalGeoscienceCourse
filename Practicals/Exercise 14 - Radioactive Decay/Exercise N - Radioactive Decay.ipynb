{
 "cells": [
  {
   "cell_type": "markdown",
   "metadata": {},
   "source": [
    "# Exercise N - Radioactive decay\n",
    "*Andrew Valentine - andrew.valentine@anu.edu.au*\n",
    "\n",
    "Unstable atomic nuclei may undergo radioactive decay, losing energy (and particles) via radiation. This is a random process, but one which can be quantified by the concept of 'half-life' or 'decay rate'. The half-life is the amount of time required for 50% of the atoms in an initially pure sample to decay. It is often represented by the symbol $t_{1/2}$, and is related to the decay rate, $\\lambda$, by the formula\n",
    "\n",
    "$$ t_{1/2} = \\frac{\\ln 2}{\\lambda} $$\n",
    "\n",
    "We can interpret $\\lambda$ as being the probability that each nucleus will decay per unit time. We can also show that radioactive decay obeys the differential equation\n",
    "\n",
    "$$ \\frac{\\mathrm{d}N}{\\mathrm{d}t} = -N\\lambda $$\n",
    "\n",
    "This means that if there are $N$ radioactive particles at time $t$, then we expect to have $N - N\\lambda \\Delta t$ particles at time $t+\\Delta t$.\n",
    " \n",
    "The isotope radon-219 decays to a stable isotope of lead, principally via the following decay chain (part of the [actinium series](https://en.wikipedia.org/wiki/Decay_chain#Actinium_series)):\n",
    "\n",
    "${}^{219}\\mathrm{Rn}\\left[\\to{}^{215}\\mathrm{Po}\\right]\\to{}^{211}\\mathrm{Pb}\\to{}^{211}\\mathrm{Bi}\\to {}^{207}\\mathrm{Tl} \\to{}^{207}\\mathrm{Pb}$\n",
    "\n",
    "The half-lives of each unstable isotope in this chain are:\n",
    "\n",
    "| Isotope | Halflife | Energy release (MeV) |\n",
    "|---|---|---|\n",
    "| ${}^{219}\\mathrm{Rn}$ | 3.96 s | 6.946 |\n",
    "| ${}^{215}\\mathrm{Po}$ | 1.7 ms | 7.527 |\n",
    "| ${}^{211}\\mathrm{Pb}$ | 36.1 minutes | 1.367 |\n",
    "| ${}^{211}\\mathrm{Bi}$ | 2.14 minutes | 6.751 |\n",
    "| ${}^{207}\\mathrm{Tl}$ | 4.77 minutes | 1.418\n",
    "\n",
    "\n",
    "Suppose you have a sample that is known to have ${}^{219}$Rn at t, in concentration $N_{t}({}^{219}\\mathrm{Rn}$). From the formula above, we know that the number of ${}^{219}\\mathrm{Rn}$ particules is going to decrease such that at $t+\\Delta t$:\n",
    "\n",
    "$$ N_{t+\\Delta t}({}^{219}\\mathrm{Rn}) = N_{t}({}^{219}\\mathrm{Rn}) - N_{t}({}^{219}\\mathrm{Rn})\\times \\lambda({}^{219}\\mathrm{Rn}) \\times \\Delta t$$\n",
    "\n",
    "The concentration of ${}^{215}\\mathrm{Po}$ will thus be a balance between its production from ${}^{219}\\mathrm{Rn}$ and its own decay in ${}^{211}\\mathrm{Pb}$:\n",
    "\n",
    "$$ N_{t+\\Delta t}({}^{215}\\mathrm{Po}) = N_{t}({}^{215}\\mathrm{Po}) + N_{t}({}^{219}\\mathrm{Rn})\\times \\lambda({}^{219}\\mathrm{Rn}) \\times \\Delta t - N_{t}({}^{215}\\mathrm{Po}) \\lambda({}^{215}\\mathrm{Po}) \\times \\Delta t) $$\n",
    "\n",
    "**&#10148; Write code to simulate the decay chain.** Starting with 10,000 ${}^{219}\\mathrm{Rn}$ particules, produce a graph of the amount of each isotope present at any point in time. An example is shown below. (Since the halflife of ${}^{215}$Po is so short, we can neglect this step and treat the system as though ${}^{219}$Rn decays directly to ${}^{211}$Pb.)"
   ]
  },
  {
   "cell_type": "code",
   "execution_count": null,
   "metadata": {},
   "outputs": [],
   "source": [
    "# Try it here!\n"
   ]
  },
  {
   "cell_type": "markdown",
   "metadata": {},
   "source": [
    "The energy reported above are for one fusion event. Therefore, for a time $\\Delta t$, the amount of energy released by the decay of ${}^{219}\\mathrm{Rn}$ in ${}^{215}\\mathrm{Po}$ can be calculated as\n",
    "\n",
    "$$ E({}^{219}\\mathrm{Rn}) = 6.946 \\times N_{t}({}^{219}\\mathrm{Rn})\\times \\lambda({}^{219}\\mathrm{Rn}) \\times \\Delta t $$\n",
    "\n",
    "The total energy released over can thus be calculated following this idea.\n",
    "\n",
    "**&#10148; Plot the energy released by the sample over time.**"
   ]
  },
  {
   "cell_type": "code",
   "execution_count": null,
   "metadata": {},
   "outputs": [],
   "source": [
    "# Try it here!\n"
   ]
  },
  {
   "cell_type": "markdown",
   "metadata": {},
   "source": [
    "\n",
    "**&#10148;** Suppose your sample now contains three times as much ${}^{207}$Pb as ${}^{211}$Pb. **Show that it is 1 hour, 15 minutes and 8 seconds old.**"
   ]
  },
  {
   "cell_type": "code",
   "execution_count": null,
   "metadata": {},
   "outputs": [],
   "source": [
    "# Try it here!\n"
   ]
  }
 ],
 "metadata": {
  "kernelspec": {
   "display_name": "Python 3",
   "language": "python",
   "name": "python3"
  },
  "language_info": {
   "codemirror_mode": {
    "name": "ipython",
    "version": 3
   },
   "file_extension": ".py",
   "mimetype": "text/x-python",
   "name": "python",
   "nbconvert_exporter": "python",
   "pygments_lexer": "ipython3",
   "version": "3.6.6"
  }
 },
 "nbformat": 4,
 "nbformat_minor": 2
}
