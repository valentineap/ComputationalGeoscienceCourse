{
 "cells": [
  {
   "cell_type": "markdown",
   "metadata": {},
   "source": [
    "# Exercise 10 - Modules\n",
    "\n",
    "So far, almost everything we have used or encountered has been a core element of the Python language. By now, we know enough to be able to accomplish almost any computational task. However, writing all the code from scratch can be a time-consuming affair. One of the great attractions of Python as a programming language for scientific development is the ready availability of a large number of 'modules' - ready-to-use collections of functions - which provide good-quality code for most common tasks.\n",
    "\n",
    "To use code from a module, you need to import it. This is conventionally done at the start of your Python file, although in principle it can be done at any point before you need to use functions from the module. There are several variant forms of import statement, but the simplest is\n",
    "```python\n",
    "import <modulename> \n",
    "```\n",
    "where `<modulename>` is the name of the module you wish to use. Once you have done this, you can access functions within the module by typing `<modulename>.<function>()`. For example, the `datetime` module provides a range of functions to work with date and/or time information. To calculate the amount of time elapsed between 10am on 24 September 2018 (when this course started) and its conclusion at 4pm on 5 October, we can do the following:\n",
    "```python\n",
    "import datetime\n",
    "a = datetime.datetime(2018,9,24,10,00,00) # Year/Month/Day/Hour/Min/Sec\n",
    "b = datetime.datetime(2018,10,5,16,00,00)\n",
    "print(b-a)\n",
    "```\n",
    "Here, we are using a `datetime()` function within the `datetime` module. "
   ]
  },
  {
   "cell_type": "code",
   "execution_count": null,
   "metadata": {},
   "outputs": [],
   "source": [
    "# Try it here!\n"
   ]
  },
  {
   "cell_type": "markdown",
   "metadata": {},
   "source": [
    "Sometimes, modules have long names and we expect to make heavy use of the module's functions. In this case, we might find having to preface each function name with the full module name rather tedious. Python therefore allows us to assign a shorthand name to any module when we import it, by adding `as <shortname>` after the `import` statement. For example, in a later exercise we will use the module `matplotlib.animation` to generate animations. We will import this as follows:\n",
    "```python\n",
    "import matplotlib.animation as anim\n",
    "a = anim.FuncAnimation(...)\n",
    "```\n",
    "If we did not use `as anim` when we imported the module, we would have to type `a = matplotlib.animation.FuncAnimation(...)` - which gets tedious rather quickly.\n",
    "\n",
    "Sometimes, we know we only wish to use one or two functions from a module. In this case, we may prefer not to import the entire module, but instead use\n",
    "```python\n",
    "from <module> import <function1>, <function2>\n",
    "```\n",
    "This makes <function1> and <function2> available in our program, and we do not need to preface them by any module name. For example, the `math` module provides a number of functions for mathematical operations. If we just want to be able to compute exponentials and sines, we could do\n",
    "```python\n",
    "from math import exp, sin\n",
    "a = exp(3)*sin(1.6)\n",
    "print(a)\n",
    "```\n",
    "but we would not have access to anything else within the `math` library.\n"
   ]
  },
  {
   "cell_type": "code",
   "execution_count": 2,
   "metadata": {},
   "outputs": [],
   "source": [
    "# Try it here!\n"
   ]
  },
  {
   "cell_type": "markdown",
   "metadata": {},
   "source": [
    "The reason Python requires you to preface function calls with the module name, or import specific functions, is to avoid 'namespace clashes', where two functions with the same name are loaded. For example, many modules might provide a function called `save`, which does something appropriate to that module's purpose. By encouraging you to specify `<module>.save()`, or specifically import a `save` routine from one particular module, Python tries to avoid the bugs and confusion that could otherwise occur.\n",
    "\n",
    "However, if you really want to expose all the functions in a module, Python allows you to use an import statement of the form\n",
    "```python\n",
    "from <module> import *\n",
    "```\n",
    "This works in exactly the same way as `from <module> import <function>`, except that it uses the 'wild-card' character `*` to indicate that *everything* in the module should be made available. A few modules are intended to be used in this way, but in general, it is best avoided unless you have a reason to need it.\n",
    "\n",
    "## Getting to grips with `datetime`\n",
    "\n",
    "An important skill is to be able to work out what a particular module does, and how to use it, without being taught about it. \n",
    "\n",
    "**&#10148; Write a program that asks the user to enter their birth date, and then calculates how long it will be until their next birthday.**\n",
    "\n",
    "You will need to use the [official documentation](https://docs.python.org/3.6/library/datetime.html) for the `datetime` module, as well as [other resources](http://www.google.com.au). You will find the `datetime.datetime.strptime()` and `datetime.datetime.now()` functions useful."
   ]
  },
  {
   "cell_type": "code",
   "execution_count": null,
   "metadata": {},
   "outputs": [],
   "source": [
    "# Try it here!\n"
   ]
  },
  {
   "cell_type": "markdown",
   "metadata": {},
   "source": [
    "## Creating new modules\n",
    "\n",
    "You can also create your own modules. This allows you to 'package up' functions that you use regularly, and re-use them in different programs. This is much better than routinely copying and pasting functions from one file to another, which usually ends up leading to confusion: one inevitably ends up with multiple versions of the function that all work in slightly different ways. By using a module, you guarantee that all programs that use it 'see' the same function. Note that Python's ability to have 'optional' function arguments, with default values (`def function(...,var1=default1, var2=default2...)`) is often very useful for adding enhancements to a function without breaking any existing programs.\n",
    "\n",
    "To create a module, you simply create a plain text file (using a text editor, or by selecting `New > Text File` within Jupyter's file browser window), and name it `<desired module name>.py`. Place whatever functions you wish to include within the module in this file, and save it. Then, you will be able to `import <module name>` and access the functions, as with any other module.\n",
    "\n",
    "**&#10148; Package your birthday calculator into a module, and test it.**"
   ]
  },
  {
   "cell_type": "code",
   "execution_count": null,
   "metadata": {},
   "outputs": [],
   "source": [
    "# Try it here!\n"
   ]
  },
  {
   "cell_type": "markdown",
   "metadata": {},
   "source": [
    "Further information on Python modules is available in the [Python documentation](https://docs.python.org/3/tutorial/modules.html). At a later stage, if you create a significant module that is not available, you can contribute to the community by probiding the module online through PyPi. Python is based on a free, open source framework with many libraries developped by people like you. So contributions are welcomed and important!"
   ]
  },
  {
   "cell_type": "code",
   "execution_count": null,
   "metadata": {},
   "outputs": [],
   "source": []
  }
 ],
 "metadata": {
  "kernelspec": {
   "display_name": "Python 3",
   "language": "python",
   "name": "python3"
  },
  "language_info": {
   "codemirror_mode": {
    "name": "ipython",
    "version": 3
   },
   "file_extension": ".py",
   "mimetype": "text/x-python",
   "name": "python",
   "nbconvert_exporter": "python",
   "pygments_lexer": "ipython3",
   "version": "3.6.2"
  }
 },
 "nbformat": 4,
 "nbformat_minor": 2
}
