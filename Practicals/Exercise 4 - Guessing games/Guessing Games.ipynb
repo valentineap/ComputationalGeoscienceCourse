{
 "cells": [
  {
   "cell_type": "markdown",
   "metadata": {},
   "source": [
    "# Guessing Games #"
   ]
  },
  {
   "cell_type": "code",
   "execution_count": 2,
   "metadata": {},
   "outputs": [],
   "source": [
    "import numpy as np\n",
    "import guessingGames as gg"
   ]
  },
  {
   "cell_type": "markdown",
   "metadata": {},
   "source": [
    "** &#10148; Try playing this simple game.**"
   ]
  },
  {
   "cell_type": "code",
   "execution_count": 3,
   "metadata": {},
   "outputs": [
    {
     "name": "stdout",
     "output_type": "stream",
     "text": [
      "I am thinking of a number between 1 and 10\n",
      "Make a guess:2\n",
      "Sorry, try again.\n",
      "Make a guess:1\n",
      "Sorry, try again.\n",
      "Make a guess:3\n",
      "Sorry, try again.\n",
      "Make a guess:4\n",
      "Sorry, try again.\n",
      "Make a guess:5\n",
      "Sorry, try again.\n",
      "Make a guess:6\n",
      "Sorry, try again.\n",
      "Make a guess:7\n",
      "Sorry, try again.\n",
      "Make a guess:89\n",
      "Sorry, try again.\n",
      "Make a guess:9\n",
      "Well done! You needed 9 guesses.\n"
     ]
    }
   ],
   "source": [
    "gg.guessingGame(nmax=10)"
   ]
  },
  {
   "cell_type": "markdown",
   "metadata": {},
   "source": [
    "**&#10148; Can you write your own version?**\n",
    "\n",
    "A couple of hints to help you:\n",
    "- To read input from the keyboard, you can use \n",
    "```python\n",
    "x = input(message)\n",
    "```\n",
    "where `message` is the prompt shown to the user (e.g. 'Make a guess:' in `gg.guessingGame`). Whatever the user types in gets stored in the variable `x`. Note that `x` contains a string of characters, even if the user types in a number. You can use `int(x)` to convert the input to an integer (and `float(x)` if you want to convert it to a floating-point number).\n",
    "- To generate a random integer, you can call the function `np.random.randint(lo,hi)` where `lo` is the smallest integer you want to generate, and `hi` is **one greater than** the largest integer."
   ]
  },
  {
   "cell_type": "code",
   "execution_count": 3,
   "metadata": {},
   "outputs": [],
   "source": [
    "# Try it here!\n",
    "\n"
   ]
  },
  {
   "cell_type": "markdown",
   "metadata": {},
   "source": [
    "What happens if the user types something in that isn't an integer? Can you make your version robust?"
   ]
  },
  {
   "cell_type": "markdown",
   "metadata": {},
   "source": [
    "**&#10148; Here's another one to play:**"
   ]
  },
  {
   "cell_type": "code",
   "execution_count": 4,
   "metadata": {},
   "outputs": [
    {
     "name": "stdout",
     "output_type": "stream",
     "text": [
      "I am thinking of a number between 1 and 100\n",
      "Make a guess:50\n",
      "Too low... try again!\n",
      "Make a guess:25\n",
      "Too low... try again!\n",
      "Make a guess:75\n",
      "Too low... try again!\n",
      "Make a guess:90\n",
      "Too high... try again!\n",
      "Make a guess:80\n",
      "Too low... try again!\n",
      "Make a guess:85\n",
      "Too high... try again!\n",
      "Make a guess:86\n",
      "Too high... try again!\n",
      "Make a guess:82\n",
      "Well done! You needed 8 guesses.\n"
     ]
    }
   ],
   "source": [
    "gg.higherOrLower(nmax=100)"
   ]
  },
  {
   "cell_type": "markdown",
   "metadata": {},
   "source": [
    "**&#10148; Try writing your own version.**\n",
    "\n",
    "You should be able to use the code you wrote for `guessingGame` as a starting point."
   ]
  },
  {
   "cell_type": "code",
   "execution_count": 5,
   "metadata": {},
   "outputs": [],
   "source": [
    "# Try it here!\n"
   ]
  },
  {
   "cell_type": "markdown",
   "metadata": {},
   "source": [
    "**&#10148; Here's a final one to try.**"
   ]
  },
  {
   "cell_type": "code",
   "execution_count": 1,
   "metadata": {},
   "outputs": [
    {
     "ename": "NameError",
     "evalue": "name 'gg' is not defined",
     "output_type": "error",
     "traceback": [
      "\u001b[0;31m---------------------------------------------------------------------------\u001b[0m",
      "\u001b[0;31mNameError\u001b[0m                                 Traceback (most recent call last)",
      "\u001b[0;32m<ipython-input-1-fece82f590ed>\u001b[0m in \u001b[0;36m<module>\u001b[0;34m()\u001b[0m\n\u001b[0;32m----> 1\u001b[0;31m \u001b[0mgg\u001b[0m\u001b[0;34m.\u001b[0m\u001b[0mmontyHall\u001b[0m\u001b[0;34m(\u001b[0m\u001b[0;36m3\u001b[0m\u001b[0;34m)\u001b[0m\u001b[0;34m\u001b[0m\u001b[0m\n\u001b[0m",
      "\u001b[0;31mNameError\u001b[0m: name 'gg' is not defined"
     ]
    }
   ],
   "source": [
    "gg.montyHall(3)"
   ]
  },
  {
   "cell_type": "markdown",
   "metadata": {},
   "source": [
    "This is an "
   ]
  }
 ],
 "metadata": {
  "kernelspec": {
   "display_name": "Python 3",
   "language": "python",
   "name": "python3"
  },
  "language_info": {
   "codemirror_mode": {
    "name": "ipython",
    "version": 3
   },
   "file_extension": ".py",
   "mimetype": "text/x-python",
   "name": "python",
   "nbconvert_exporter": "python",
   "pygments_lexer": "ipython3",
   "version": "3.6.6"
  }
 },
 "nbformat": 4,
 "nbformat_minor": 2
}
