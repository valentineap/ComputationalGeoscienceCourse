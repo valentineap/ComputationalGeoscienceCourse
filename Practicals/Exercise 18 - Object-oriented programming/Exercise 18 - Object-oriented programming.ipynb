{
 "cells": [
  {
   "cell_type": "markdown",
   "metadata": {},
   "source": [
    "# Exercise N - Object-oriented programming\n",
    "*Andrew Valentine - andrew.valentine@anu.edu.au*"
   ]
  },
  {
   "cell_type": "markdown",
   "metadata": {},
   "source": [
    "By now, you should be comfortable with the idea that variables have types, and often come with various functions and attributes 'attached' which can be accessed by using `<variablename>.<functionname>` or `<variablename>.<attributename>`. In this exercise, we will learn how we can implement our own data types and make use of this functionality.\n",
    "\n",
    "Sometimes, the motivation for doing this will simply be ease of organisation. For example, suppose you have a collection of rock samples, and you wish to represent them in your program. You have various pieces of information about each rock in your collection, for example:\n",
    "\n",
    "- An ID number;\n",
    "- The location at which it was collected;\n",
    "- A brief description of the rock type (e.g. 'Granite');\n",
    "- Various geochemical measurements.\n",
    "\n",
    "We have already seen various ways in which this information could be stored in a program, including tuples, dictionaries, and as a Pandas data frame. For many applications, these may be good choices. However, it is also possible to create a custom data type, which we will call `RockSample`, and encapsulate all the information about one physical rock within one Python 'object'.\n",
    "\n",
    "To do this, we need to write a `class definition`. This is an indented block beginning with the line `class <ClassName>:`, containing one or more functions. In particular, it will usually contain a function with the name `__init__`. This is the initialisation (or 'constructor') function, which gets called when we want to create a new 'instance' of the object. \n",
    "\n",
    "For example, we might have a class definition:\n",
    "```python\n",
    "class RockSample:\n",
    "    def __init__(self, idNumber, location, description, percentNickel=None, percentCopper=None):\n",
    "        self.idNumber = idNumber\n",
    "        self.location = location\n",
    "        self.description = description\n",
    "        self.percentNickel = percentNickel\n",
    "        self.percentCopper = percentCopper\n",
    "```\n",
    "Then we can use this to create variables representing each of our physical rock samples:\n",
    "```python\n",
    "r1 = RockSample(1, (-35.3,149.1), 'Heavily altered sandstone')\n",
    "r2 = RockSample(2, (-35.7, 148.9), 'Granite', percentCopper=0.01)\n",
    "```\n",
    "Notice that we use the class name as if it were a function, passing it the arguments required by `__init__()`. Now, we can access all our data as attributes of `r1` and `r2`:\n",
    "```python\n",
    "print(r1.description)\n",
    "print(r2.percentNickel)\n",
    "```\n",
    "Attributes can be redefined, as necessary:\n",
    "```python\n",
    "r1.percentNickel = 0.05\n",
    "```\n",
    "\n",
    "**&#10148; Try it out.**"
   ]
  },
  {
   "cell_type": "code",
   "execution_count": 13,
   "metadata": {},
   "outputs": [],
   "source": [
    "# Try it here!\n"
   ]
  },
  {
   "cell_type": "markdown",
   "metadata": {},
   "source": [
    "You have probably noticed that our `__init__()` function is defined as having four non-optional arguments, but when we call it to create a new variable, we only appear to pass three values to it. The first argument, `self`, represents the variable on the *left* of the equals sign. In other words, when we write\n",
    "```python\n",
    "r1 = RockSample(1, (-35.3,149.1), 'Heavily altered sandstone')\n",
    "```\n",
    "we are effectively calling\n",
    "```python\n",
    "RockSample.__init__(r1,1, (-35.3,149.1), 'Heavily altered sandstone')\n",
    "```\n",
    "(although writing it this way will not actually work). Within the `__init__()` function, lines like `self.idNumber= idNumber` attach attributes to the variable name. By convention, the variable name `self` is always used for this first argument, although it is technically possible to use any name here.\n",
    "\n",
    "We can add other functions to the class, all of which should have `self` as the first argument. Functions in classes may return a value (by having a `return` statement as usual), but they can also modify the internal data in the class (i.e. set or change attributes attached to `self`) or have other 'side-effects'. For example, we might write a `plot_location()` function, to create a map showing where the sample was collected.\n",
    "```python\n",
    "class RockSample:\n",
    "    def __init__(self, idNumber, location, description, percentNickel=None, percentCopper=None):\n",
    "        self.idNumber = idNumber\n",
    "        self.location = location\n",
    "        self.description = description\n",
    "        self.percentNickel = percentNickel\n",
    "        self.percentCopper = percentCopper\n",
    "    def plot_location(self,...):\n",
    "        [...]\n",
    "        ax.plot(self.location[1],self.location[0],'x')\n",
    "        [...]\n",
    "```\n",
    "Then, we can call\n",
    "```python\n",
    "r1.plot_location(...)\n",
    "```\n",
    "and a map will be generated.\n",
    "\n",
    "**&#10148; Write and test the `plot_location()` function.**"
   ]
  },
  {
   "cell_type": "code",
   "execution_count": 14,
   "metadata": {},
   "outputs": [],
   "source": [
    "# Try it here!\n"
   ]
  },
  {
   "cell_type": "markdown",
   "metadata": {},
   "source": [
    "What have we gained by doing this? One benefit lies in data organisation: by encapsulating information in this way, we ensure that all our data about a physical sample is kept together. We can easily pass the entire RockSample object to a function, ensuring that all information is accessible within that function. This becomes particularly useful when developing large, complex programs, where one might have something like\n",
    "```python\n",
    "def function_a(rock):\n",
    "    [...]\n",
    "    u = function_b(rock,...)\n",
    "    [...]\n",
    "def function_b(rock):\n",
    "    [...]\n",
    "    v = function_c(rock,...)\n",
    "    [...]\n",
    "def function_c(rock,...):\n",
    "    # The function that actually\n",
    "    # uses the attributes of rock\n",
    "    [...]\n",
    "```\n",
    "i.e., we pass `rock` down through several layers of function-call before we actually make use of the information it contains. By encapsulating everything within a class, we can write `function_a` and `function_b` without needing to think about what information `function_c` will be accessing. If we subsequently decide to change how `function_c` works, we can easily add new information to the class and access it inside `function_c`, without needing to make any modifications in `function_a` and `function_b`.\n",
    "\n",
    "Employing classes can also be powerful in situations where we want to handle distinct classes of data in a unified way. For example, we might have two different models of mass spectrometer, which produce data files in different formats. By wrapping everything into classes, we can avoid our analysis code needing to know anything about the different machines:\n",
    "```python\n",
    "class instrumentA:\n",
    "    def __init__(self,...):\n",
    "        [...]\n",
    "    def getExperimentDate(self,...):\n",
    "        # Read experiment date from data file\n",
    "        return date\n",
    "    [...]\n",
    "    \n",
    "class instrumentB:\n",
    "    def __init__(self,...):\n",
    "        [...]\n",
    "    def getExperimentDate(self,...):\n",
    "        # Read experiment date from data file\n",
    "        [...]\n",
    "        return date\n",
    "    [...]\n",
    "    \n",
    "def processData(instrument,...):\n",
    "    [...]\n",
    "    date = instrument.getExperimentDate()\n",
    "    [...]\n",
    "\n",
    "inst = instrumentA(...)\n",
    "processData(inst,...)\n",
    "inst = instrumentB(...)\n",
    "processData(inst,...)\n",
    "```\n",
    "The philosophy here is that the `processData()` function needs to know nothing about where or how the data is stored; it simply receives an `instrument` object from which it can 'request' any information that it requires. If in the future a new instrument is purchased, we only need to write a new `instrumentC` class containing the appropriate functions, and then all our existing analysis code will be ready to use."
   ]
  },
  {
   "cell_type": "code",
   "execution_count": null,
   "metadata": {},
   "outputs": [],
   "source": []
  },
  {
   "cell_type": "code",
   "execution_count": 8,
   "metadata": {},
   "outputs": [
    {
     "data": {
      "text/plain": [
       "0.13"
      ]
     },
     "execution_count": 8,
     "metadata": {},
     "output_type": "execute_result"
    }
   ],
   "source": [
    "class RockSample:\n",
    "    def __init__(self,idNumber,location,mass):\n",
    "        self.idNumber = idNumber\n",
    "        self.location = location\n",
    "        self.mass = mass\n",
    "    \n",
    "r = RockSample(1,(-33.7,152.8),0.13)\n",
    "r.mass"
   ]
  },
  {
   "cell_type": "code",
   "execution_count": null,
   "metadata": {},
   "outputs": [],
   "source": []
  }
 ],
 "metadata": {
  "kernelspec": {
   "display_name": "Python 3",
   "language": "python",
   "name": "python3"
  },
  "language_info": {
   "codemirror_mode": {
    "name": "ipython",
    "version": 3
   },
   "file_extension": ".py",
   "mimetype": "text/x-python",
   "name": "python",
   "nbconvert_exporter": "python",
   "pygments_lexer": "ipython3",
   "version": "3.6.7"
  }
 },
 "nbformat": 4,
 "nbformat_minor": 2
}
